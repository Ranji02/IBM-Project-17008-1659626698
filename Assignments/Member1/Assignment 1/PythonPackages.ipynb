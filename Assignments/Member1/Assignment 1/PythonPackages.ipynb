{
  "nbformat": 4,
  "nbformat_minor": 0,
  "metadata": {
    "colab": {
      "provenance": [],
      "collapsed_sections": []
    },
    "kernelspec": {
      "name": "python3",
      "display_name": "Python 3"
    },
    "language_info": {
      "name": "python"
    }
  },
  "cells": [
    {
      "cell_type": "markdown",
      "source": [
        "**1. DATETIME**\n",
        "\n",
        "\n",
        " *The datetime module has many methods to return information about the date object.*\n",
        "\n"
      ],
      "metadata": {
        "id": "PeJl13n86jKo"
      }
    },
    {
      "cell_type": "code",
      "source": [
        "import datetime\n",
        "\n",
        "#The date contains year, month, day, hour, minute, second, and microsecond.\n",
        "x = datetime.datetime.now()\n",
        "\n",
        "print(x)\n",
        "print(x.year)\n",
        "\n",
        "print(x.month)\n",
        "print(x.strftime(\"%b\"))\n",
        "print(x.strftime(\"%B\"))\n",
        "\n",
        "print(x.day)\n",
        "print(x.strftime(\"%A\"))\n",
        "\n",
        "print(x.strftime(\"%X\"))"
      ],
      "metadata": {
        "colab": {
          "base_uri": "https://localhost:8080/"
        },
        "id": "1-JfgFpo2Tpc",
        "outputId": "ea8dfe70-8a2e-4723-e52f-1f428b205a04"
      },
      "execution_count": 9,
      "outputs": [
        {
          "output_type": "stream",
          "name": "stdout",
          "text": [
            "2022-10-24 12:11:22.032007\n",
            "2022\n",
            "10\n",
            "Oct\n",
            "October\n",
            "24\n",
            "Monday\n",
            "12:11:22\n"
          ]
        }
      ]
    },
    {
      "cell_type": "markdown",
      "source": [
        "**2. RegEx**\n",
        "\n",
        "*RegEx can be used to check if a string contains the specified search pattern.*"
      ],
      "metadata": {
        "id": "GjEbJnhw9W3j"
      }
    },
    {
      "cell_type": "code",
      "source": [
        "import re\n",
        "txt = \"RegEx can be used to check if a string contains the specified search pattern.\"\n",
        "\n",
        "#Check if the string starts with \"RegEx\" and ends with \"ern.\"\n",
        "x = re.search(\"^RegEx.*ern.$\", txt)\n",
        "if x:\n",
        "  print(\"Yes! We have a match!\")\n",
        "else:\n",
        "  print(\"No match\")\n",
        "\n",
        "#Search for the first white-space character in the string\n",
        "x = re.search(\"\\s\", txt)\n",
        "print(\"The first white-space character is located in position:\", x.start()) \n",
        "\n",
        "#The split() function returns a list where the string has been split at each match. \"\\s - white-space character\"\n",
        "x = re.split(\"\\s\", txt)\n",
        "print(x)\n",
        "\n",
        "#Return a list containing every occurrence of \"ai\":\n",
        "txt = \"The rain in Spain\"\n",
        "x = re.findall(\"ai\", txt)\n",
        "print(x)\n",
        "\n",
        "#Return a list containing every occurrence of \"India\"\n",
        "x = re.findall(\"India\", txt)\n",
        "print(x)"
      ],
      "metadata": {
        "colab": {
          "base_uri": "https://localhost:8080/"
        },
        "id": "R0bdi0Z69XPz",
        "outputId": "47f975c9-3bd6-487d-a8e8-633d20950a7f"
      },
      "execution_count": 21,
      "outputs": [
        {
          "output_type": "stream",
          "name": "stdout",
          "text": [
            "Yes! We have a match!\n",
            "The first white-space character is located in position: 5\n",
            "['RegEx', 'can', 'be', 'used', 'to', 'check', 'if', 'a', 'string', 'contains', 'the', 'specified', 'search', 'pattern.']\n",
            "['ai', 'ai']\n",
            "[]\n"
          ]
        }
      ]
    },
    {
      "cell_type": "markdown",
      "source": [
        "**3. NUMPY**\n",
        "\n",
        "*The NumPy module is used for working with arrays. It is a short form of \"Numerical Python\".*"
      ],
      "metadata": {
        "id": "Id78xQqV8N6c"
      }
    },
    {
      "cell_type": "code",
      "execution_count": null,
      "metadata": {
        "colab": {
          "base_uri": "https://localhost:8080/"
        },
        "id": "TLWueg8L9ku5",
        "outputId": "f45df2b7-2c1f-405e-c92d-1c9f4faad433"
      },
      "outputs": [
        {
          "output_type": "stream",
          "name": "stdout",
          "text": [
            "=== 1D Array ===\n",
            "[1 2 3 4 5]\n",
            "\n",
            "=== 2D Array ===\n",
            "[[1 2 3]\n",
            " [4 5 6]]\n",
            "\n",
            "=== Shape of the array ===\n",
            "(2, 4)\n",
            "\n",
            "Before Reshape the array\n",
            "[[1 2 3 4]\n",
            " [5 6 7 8]]\n",
            "\n",
            "After Reshape the array\n",
            "[[1 2]\n",
            " [3 4]\n",
            " [5 6]\n",
            " [7 8]]\n"
          ]
        }
      ],
      "source": [
        "import numpy as np\n",
        "\n",
        "#1-D arrays\n",
        "arr1 = np.array([1, 2, 3, 4, 5])\n",
        "print(\"=== 1D Array ===\")\n",
        "print(arr1)\n",
        "\n",
        "#2-D arrays\n",
        "print(\"\\n=== 2D Array ===\")\n",
        "arr2 = np.array([[1, 2, 3], [4, 5, 6]])\n",
        "print(arr2)\n",
        "\n",
        "\n",
        "arr3 = np.array([[1, 2, 3, 4], [5, 6, 7, 8]])\n",
        "print(\"\\n=== Shape of the array ===\")\n",
        "print(arr3.shape)\n",
        "\n",
        "print(\"\\nBefore Reshape the array\")\n",
        "print(arr3)\n",
        "\n",
        "arr4 = arr3.reshape(4, 2)\n",
        "print(\"\\nAfter Reshape the array\")\n",
        "print(arr4)"
      ]
    },
    {
      "cell_type": "markdown",
      "source": [
        "**4. PANDAS**\n",
        "\n",
        "*Pandas is used to analyze data.*"
      ],
      "metadata": {
        "id": "Pg5qP11HCmvg"
      }
    },
    {
      "cell_type": "code",
      "source": [
        "import pandas as pd\n",
        "\n",
        "#Pandas DataFrame is a 2 dimensional data structure, like a 2 dimensional array, or a table with rows and columns.\n",
        "data = {\n",
        "  \"calories\": [420, 380, 390],\n",
        "  \"duration\": [50, 40, 45]\n",
        "}\n",
        "\n",
        "#load data into a DataFrame object:\n",
        "df = pd.DataFrame(data)\n",
        "print(df,\"\\n\\n\\n\") \n",
        "\n",
        "#Load csv into Dataframe\n",
        "df = pd.read_csv('flavors_of_cacao.csv')\n",
        "print(df,\"\\n\\n\\n\")\n",
        "\n",
        "#Print information about the data\n",
        "print(df.info()) "
      ],
      "metadata": {
        "colab": {
          "base_uri": "https://localhost:8080/"
        },
        "id": "e1DdmIlI3G7b",
        "outputId": "79b9f143-253d-415f-dfb8-57ca3d4c6872"
      },
      "execution_count": 33,
      "outputs": [
        {
          "output_type": "stream",
          "name": "stdout",
          "text": [
            "   calories  duration\n",
            "0       420        50\n",
            "1       380        40\n",
            "2       390        45 \n",
            "\n",
            "\n",
            "     Company \\n(Maker-if known) Specific Bean Origin\\nor Bar Name   REF  \\\n",
            "0                      A. Morin                       Agua Grande  1876   \n",
            "1                      A. Morin                             Kpime  1676   \n",
            "2                      A. Morin                            Atsane  1676   \n",
            "3                      A. Morin                             Akata  1680   \n",
            "4                      A. Morin                            Quilla  1704   \n",
            "...                         ...                               ...   ...   \n",
            "1790                     Zotter                              Peru   647   \n",
            "1791                     Zotter                             Congo   749   \n",
            "1792                     Zotter                      Kerala State   749   \n",
            "1793                     Zotter                      Kerala State   781   \n",
            "1794                     Zotter                Brazil, Mitzi Blue   486   \n",
            "\n",
            "      Review\\nDate Cocoa\\nPercent Company\\nLocation  Rating Bean\\nType  \\\n",
            "0             2016            63%            France    3.75              \n",
            "1             2015            70%            France    2.75              \n",
            "2             2015            70%            France    3.00              \n",
            "3             2015            70%            France    3.50              \n",
            "4             2015            70%            France    3.50              \n",
            "...            ...            ...               ...     ...        ...   \n",
            "1790          2011            70%           Austria    3.75              \n",
            "1791          2011            65%           Austria    3.00  Forastero   \n",
            "1792          2011            65%           Austria    3.50  Forastero   \n",
            "1793          2011            62%           Austria    3.25              \n",
            "1794          2010            65%           Austria    3.00              \n",
            "\n",
            "     Broad Bean\\nOrigin  \n",
            "0              Sao Tome  \n",
            "1                  Togo  \n",
            "2                  Togo  \n",
            "3                  Togo  \n",
            "4                  Peru  \n",
            "...                 ...  \n",
            "1790               Peru  \n",
            "1791              Congo  \n",
            "1792              India  \n",
            "1793              India  \n",
            "1794             Brazil  \n",
            "\n",
            "[1795 rows x 9 columns] \n",
            "\n",
            "\n",
            "\n",
            "<class 'pandas.core.frame.DataFrame'>\n",
            "RangeIndex: 1795 entries, 0 to 1794\n",
            "Data columns (total 9 columns):\n",
            " #   Column                            Non-Null Count  Dtype  \n",
            "---  ------                            --------------  -----  \n",
            " 0   Company \n",
            "(Maker-if known)         1795 non-null   object \n",
            " 1   Specific Bean Origin\n",
            "or Bar Name  1795 non-null   object \n",
            " 2   REF                               1795 non-null   int64  \n",
            " 3   Review\n",
            "Date                       1795 non-null   int64  \n",
            " 4   Cocoa\n",
            "Percent                     1795 non-null   object \n",
            " 5   Company\n",
            "Location                  1795 non-null   object \n",
            " 6   Rating                            1795 non-null   float64\n",
            " 7   Bean\n",
            "Type                         1794 non-null   object \n",
            " 8   Broad Bean\n",
            "Origin                 1794 non-null   object \n",
            "dtypes: float64(1), int64(2), object(6)\n",
            "memory usage: 126.3+ KB\n",
            "None\n"
          ]
        }
      ]
    },
    {
      "cell_type": "markdown",
      "source": [
        "**5. MATPLOTLIB**\n",
        "\n",
        "*Matplotlib is a low level graph plotting library in python that serves as a visualization utility.*"
      ],
      "metadata": {
        "id": "rMPU8UjoGgRE"
      }
    },
    {
      "cell_type": "code",
      "source": [
        "#With Pyplot, use the pie() function to draw pie charts:\n",
        "import matplotlib.pyplot as plt\n",
        "import numpy as np\n",
        "\n",
        "y = np.array([10, 15, 25, 50])\n",
        "\n",
        "plt.pie(y)\n",
        "plt.show()"
      ],
      "metadata": {
        "colab": {
          "base_uri": "https://localhost:8080/",
          "height": 248
        },
        "id": "3cDb2cfyGunA",
        "outputId": "dda98b48-dc31-484f-f64d-54a1795aec39"
      },
      "execution_count": 46,
      "outputs": [
        {
          "output_type": "display_data",
          "data": {
            "text/plain": [
              "<Figure size 432x288 with 1 Axes>"
            ],
            "image/png": "[encoded data removed]"
          },
          "metadata": {}
        }
      ]
    },
    {
      "cell_type": "code",
      "source": [
        "#Use NumPy to randomly generate an array with 250 values, where the values will concentrate around 170, and the standard deviation is 10\n",
        "x = np.random.normal(170, 10, 250)\n",
        "\n",
        "#The hist() function will read the array and produce a histogram\n",
        "plt.hist(x)\n",
        "plt.show() "
      ],
      "metadata": {
        "colab": {
          "base_uri": "https://localhost:8080/",
          "height": 265
        },
        "id": "lxY123R2IXAT",
        "outputId": "0b9e2353-d9df-412b-c3b4-28324a704c6a"
      },
      "execution_count": 47,
      "outputs": [
        {
          "output_type": "display_data",
          "data": {
            "text/plain": [
              "<Figure size 432x288 with 1 Axes>"
            ],
            "image/png": "[encoded data removed]"
          },
          "metadata": {
            "needs_background": "light"
          }
        }
      ]
    }
  ]
}